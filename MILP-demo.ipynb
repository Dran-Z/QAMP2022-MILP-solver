{
 "cells": [
  {
   "cell_type": "markdown",
   "metadata": {},
   "source": [
    "## 1. Import necessary module"
   ]
  },
  {
   "cell_type": "code",
   "execution_count": 1,
   "metadata": {},
   "outputs": [],
   "source": [
    "from scipy.optimize import milp, LinearConstraint\n",
    "from qiskit_optimization import QuadraticProgram\n",
    "from qiskit import QiskitError\n",
    "import numpy as np\n",
    "from qiskit_optimization.algorithms import GurobiOptimizer\n"
   ]
  },
  {
   "cell_type": "code",
   "execution_count": 3,
   "metadata": {},
   "outputs": [
    {
     "ename": "TypeError",
     "evalue": "solve() missing 2 required positional arguments: 'self' and 'problem'",
     "output_type": "error",
     "traceback": [
      "\u001b[0;31m---------------------------------------------------------------------------\u001b[0m",
      "\u001b[0;31mTypeError\u001b[0m                                 Traceback (most recent call last)",
      "Cell \u001b[0;32mIn [3], line 1\u001b[0m\n\u001b[0;32m----> 1\u001b[0m \u001b[39mtype\u001b[39m(GurobiOptimizer\u001b[39m.\u001b[39;49msolve())\n",
      "\u001b[0;31mTypeError\u001b[0m: solve() missing 2 required positional arguments: 'self' and 'problem'"
     ]
    }
   ],
   "source": []
  },
  {
   "cell_type": "code",
   "execution_count": 2,
   "metadata": {},
   "outputs": [],
   "source": [
    "%load_ext autoreload\n",
    "%autoreload 2"
   ]
  },
  {
   "cell_type": "markdown",
   "metadata": {},
   "source": [
    "## 2. Create a demo problem\n",
    "\n",
    "### Example 1\n",
    "\n",
    "\n",
    "$${\\rm max} \\ x_1+x_2+2x_3 \\\\\n",
    "\n",
    "-x_1+x_2+x_3 \\leq 1 \\\\ 3x_1+2x_2 - x_3 \\leq 12 \\\\ x_1+x_2 +x_3 \\leq 10 \\\\ 2x_1+3x_2 + 3x_3 \\geq 12 \\\\ \n",
    "\n",
    "x_1, x_2 \\in \\mathcal{Z}\n",
    "$$\n",
    "\n",
    "Let's solve it with the milp solver!"
   ]
  },
  {
   "cell_type": "code",
   "execution_count": 14,
   "metadata": {},
   "outputs": [
    {
     "name": "stdout",
     "output_type": "stream",
     "text": [
      "            fun: -15.0\n",
      "        message: 'Optimization terminated successfully. (HiGHS Status 7: Optimal)'\n",
      " mip_dual_bound: -15.0\n",
      "        mip_gap: 0.0\n",
      " mip_node_count: 1\n",
      "         status: 0\n",
      "        success: True\n",
      "              x: array([5., 0., 5.])\n"
     ]
    }
   ],
   "source": [
    "## constant value in objective\n",
    "\n",
    "c = -np.array([1, 2, 2])  \n",
    "A = np.array([[-1, 1, 1], [3, 2, -1], [1, 1, 1], [2, 3, 3]])\n",
    "b_u = np.array([1, 12, 10, np.inf])\n",
    "b_l = np.array([-np.inf, -np.inf, -np.inf, 12])\n",
    "\n",
    "constraints = LinearConstraint(A, b_l, b_u)\n",
    "integrality = np.array([1, 1, 0])\n",
    "#integrality = np.zeros(3)\n",
    "res = milp(c=c, constraints=constraints, integrality=integrality)\n",
    "\n",
    "print(res)"
   ]
  },
  {
   "cell_type": "markdown",
   "metadata": {},
   "source": [
    "We see the MILP solver tells us the object function is maximized when $x_1 = 5, x_2 = 0, x_3 = 5$.\n",
    "\n",
    "As the next step, let's create a corresponding `QuadraticProgram` class in `qiskit_optimization`."
   ]
  },
  {
   "cell_type": "code",
   "execution_count": 17,
   "metadata": {},
   "outputs": [
    {
     "name": "stdout",
     "output_type": "stream",
     "text": [
      "Problem name: example-1\n",
      "\n",
      "Maximize\n",
      "  x1 + x2 + 2*x3\n",
      "\n",
      "Subject to\n",
      "  Linear constraints (4)\n",
      "    -x1 + x2 + x3 <= 1  'c0'\n",
      "    x1 + x2 + x3 <= 10  'c1'\n",
      "    3*x1 + 2*x2 - x3 <= 12  'c2'\n",
      "    2*x1 + 3*x2 + 3*x3 >= 12  'c3'\n",
      "\n",
      "  Integer variables (2)\n",
      "    0 <= x1\n",
      "    0 <= x2\n",
      "\n",
      "  Continuous variables (1)\n",
      "    0 <= x3\n",
      "\n"
     ]
    }
   ],
   "source": [
    "## Consider the possibility of using sparse matrix(to_dict)\n",
    "## 1e20=inf\n",
    "qp = QuadraticProgram('example-1')\n",
    "qp.integer_var(name='x1')\n",
    "qp.integer_var(name='x2')\n",
    "qp.continuous_var(name='x3')\n",
    "#qp.binary_var_list(2000)\n",
    "qp.maximize(linear={'x1': 1, 'x2': 1, 'x3': 2})\n",
    "#qp.minimize(linear={'x2': 1})\n",
    "qp.linear_constraint({'x1': -1, 'x2': 1, 'x3': 1},'<=',1)\n",
    "qp.linear_constraint({'x1': 1, 'x2': 1, 'x3': 1},'<=',10)\n",
    "qp.linear_constraint({'x1': 3, 'x2': 2, 'x3': -1},'<=',12)\n",
    "qp.linear_constraint({'x1': 2, 'x2': 3, 'x3': 3},'>=',12)\n",
    "\n",
    "print(qp.prettyprint())"
   ]
  },
  {
   "cell_type": "markdown",
   "metadata": {},
   "source": [
    "We solve the `qp(QuadraticProgram)` with the Gurobi solver."
   ]
  },
  {
   "cell_type": "code",
   "execution_count": 18,
   "metadata": {},
   "outputs": [
    {
     "name": "stdout",
     "output_type": "stream",
     "text": [
      "objective function value: 15.0\n",
      "variable values: x1=5.0, x2=-0.0, x3=5.0\n",
      "status: SUCCESS\n"
     ]
    }
   ],
   "source": [
    "gurobi_result = GurobiOptimizer().solve(qp)\n",
    "print(gurobi_result.prettyprint())"
   ]
  },
  {
   "cell_type": "markdown",
   "metadata": {},
   "source": [
    "## 3. Build a Converter\n",
    "\n",
    "The converter should be able to extract necessary information from the `QuadraticProblem` class and input it to the milp solver."
   ]
  },
  {
   "cell_type": "code",
   "execution_count": 34,
   "metadata": {},
   "outputs": [
    {
     "name": "stdout",
     "output_type": "stream",
     "text": [
      "            fun: -15.0\n",
      "        message: 'Optimization terminated successfully. (HiGHS Status 7: Optimal)'\n",
      " mip_dual_bound: -15.0\n",
      "        mip_gap: 0.0\n",
      " mip_node_count: 1\n",
      "         status: 0\n",
      "        success: True\n",
      "              x: array([5., 0., 5.])\n"
     ]
    }
   ],
   "source": [
    "## First, Check if qp is linear\n",
    "## Check objective is linear\n",
    "from types import NoneType\n",
    "\n",
    "\n",
    "if qp.objective.quadratic.to_dict()!={}:\n",
    "    raise QiskitError('Obejective function is not linear!')\n",
    "\n",
    "## Check constrains are linear\n",
    "if qp.quadratic_constraints:\n",
    "    raise QiskitError('Constraints are not linear!')\n",
    "\n",
    "## Sense: 1 for minimization and -1 for maximization \n",
    "sense = qp.objective.sense.value\n",
    "\n",
    "## cost function for milp solver\n",
    "c_qp = qp.objective.linear.to_array() * sense  \n",
    "\n",
    "## constraints for milp solver\n",
    "for i, constraint in enumerate(qp.linear_constraints):\n",
    "\n",
    "    constraint_array = constraint.linear.to_array()\n",
    "    constraint_sense = constraint.sense.value # 0 for leq, 1 for geq\n",
    "    constraint_value = constraint.rhs\n",
    "    if i==0:\n",
    "        A_qp = constraint_array\n",
    "        bl_qp = np.array([constraint_value if constraint_sense==1 else -np.inf])\n",
    "        bu_qp = np.array([constraint_value if constraint_sense==0 else np.inf])\n",
    "    else:\n",
    "        A_qp = np.vstack((A_qp,constraint_array))  ## Not efficient. Use list directly.\n",
    "        bl_qp = np.append(bl_qp, [constraint_value if constraint_sense==1 else -np.inf])\n",
    "        bu_qp = np.append(bu_qp, [constraint_value if constraint_sense==0 else np.inf])\n",
    "\n",
    "constraints = LinearConstraint(A_qp, bl_qp, bu_qp)\n",
    "\n",
    "## integrity for milp solver\n",
    "## Use Enum and VarType to compare\n",
    "integrality = np.array([ 1 if variable.vartype.value==2 else 0 for variable in qp.variables]) ## check on other vartype!\n",
    "\n",
    "raw_res = milp(c=c_qp, constraints=constraints, integrality=integrality)\n",
    "\n",
    "print(raw_res)\n",
    "\n"
   ]
  },
  {
   "cell_type": "code",
   "execution_count": null,
   "metadata": {},
   "outputs": [],
   "source": [
    "## Sparse converter based on to_dict"
   ]
  },
  {
   "cell_type": "code",
   "execution_count": 37,
   "metadata": {},
   "outputs": [
    {
     "ename": "AttributeError",
     "evalue": "'QuadraticProgram' object has no attribute 'constraints'",
     "output_type": "error",
     "traceback": [
      "\u001b[0;31m---------------------------------------------------------------------------\u001b[0m",
      "\u001b[0;31mAttributeError\u001b[0m                            Traceback (most recent call last)",
      "Cell \u001b[0;32mIn [37], line 1\u001b[0m\n\u001b[0;32m----> 1\u001b[0m \u001b[43mqp\u001b[49m\u001b[38;5;241;43m.\u001b[39;49m\u001b[43mconstraints\u001b[49m\n",
      "\u001b[0;31mAttributeError\u001b[0m: 'QuadraticProgram' object has no attribute 'constraints'"
     ]
    }
   ],
   "source": [
    "qp.linear_constraints.sense"
   ]
  },
  {
   "cell_type": "code",
   "execution_count": 29,
   "metadata": {},
   "outputs": [
    {
     "data": {
      "text/plain": [
       "array([[-1.,  1.,  1.],\n",
       "       [ 3.,  2., -1.]])"
      ]
     },
     "execution_count": 29,
     "metadata": {},
     "output_type": "execute_result"
    }
   ],
   "source": [
    "A = qp.get_linear_constraint(0).linear.to_array()\n",
    "B = qp.get_linear_constraint(1).linear.to_array()\n",
    "A = np.vstack((A, B))\n",
    "A"
   ]
  },
  {
   "cell_type": "code",
   "execution_count": 62,
   "metadata": {},
   "outputs": [
    {
     "data": {
      "text/plain": [
       "<ConstraintSense.LE: 0>"
      ]
     },
     "execution_count": 62,
     "metadata": {},
     "output_type": "execute_result"
    }
   ],
   "source": [
    "qp.get_linear_constraint(0).sense"
   ]
  },
  {
   "cell_type": "code",
   "execution_count": 26,
   "metadata": {},
   "outputs": [],
   "source": [
    "integrality = np.array([ 1 if variable.vartype.value==2 else 0 for variable in qp.variables])"
   ]
  }
 ],
 "metadata": {
  "kernelspec": {
   "display_name": "Python 3.9.6 64-bit",
   "language": "python",
   "name": "python3"
  },
  "language_info": {
   "codemirror_mode": {
    "name": "ipython",
    "version": 3
   },
   "file_extension": ".py",
   "mimetype": "text/x-python",
   "name": "python",
   "nbconvert_exporter": "python",
   "pygments_lexer": "ipython3",
   "version": "3.9.6"
  },
  "orig_nbformat": 4,
  "vscode": {
   "interpreter": {
    "hash": "31f2aee4e71d21fbe5cf8b01ff0e069b9275f58929596ceb00d14d90e3e16cd6"
   }
  }
 },
 "nbformat": 4,
 "nbformat_minor": 2
}
